{
 "cells": [
  {
   "cell_type": "code",
   "execution_count": 9,
   "metadata": {},
   "outputs": [],
   "source": [
    "import math\n",
    "import numpy as np\n",
    "import matplotlib.pyplot as plt\n",
    "from gurobipy import *"
   ]
  },
  {
   "cell_type": "code",
   "execution_count": 10,
   "metadata": {},
   "outputs": [],
   "source": [
    "class Dist:\n",
    "    def __init__(self,num_res,max_nw_size,job_len):\n",
    "        #type of resource used\n",
    "        self.num_res = num_res#环境中任务的种类\n",
    "        #the max size of resource of each job\n",
    "        self.max_nw_size = max_nw_size#新任务需求的最大资源（每个任务需求的资源不能超过这个值）\n",
    "        #the max time used of each job\n",
    "        self.job_len = job_len#新任务最大的执行时间，新任务执行时间不能超过这个值\n",
    "        \n",
    "        #the chance of create a small job\n",
    "        self.job_small_chance = 0.8#小任务的概率是0.8\n",
    "        \n",
    "        #the band of big job lenth\n",
    "        self.job_len_big_lower = job_len * 2 / 3#一个大任务执行时间的下界是job_len的2/3\n",
    "        self.job_len_big_upper = job_len#一个大任务执行时间的上界是job_len\n",
    "        \n",
    "        #the band of small job lenth\n",
    "        self.job_len_small_lower = 1#一个小任务执行时间的下界是1\n",
    "        self.job_len_small_upper = job_len / 5#一个小任务执行时间的上界是len_job的1/5\n",
    "        \n",
    "        #the dominant resource size \n",
    "        self.dominant_res_lower = max_nw_size / 2#一个任务占主导地位的需求资源的的下界是max_nx_size的1/2\n",
    "        self.dominant_res_upper = max_nw_size#一个任务占主导地位的需求资源的的上界是max_nx_size\n",
    "        \n",
    "        #the other resource size\n",
    "        self.other_res_lower = 1#一个任务占非主导地位的需求资源的的下界是1\n",
    "        self.other_res_upper = max_nw_size / 5#一个任务占非主导地位的需求资源的的上界是max_nx_size的1/5\n",
    "    \n",
    "    def normal_dist(self):#完全随机地生成一个job\n",
    "        # new work duration\n",
    "        nw_len = np.random.randint(1, self.job_len + 1)  # same length in every dimension\n",
    "\n",
    "        nw_size = np.zeros(self.num_res)\n",
    "\n",
    "        for i in range(self.num_res):\n",
    "            nw_size[i] = np.random.randint(1, self.max_nw_size + 1)\n",
    "\n",
    "        return nw_len, nw_size\n",
    "    \n",
    "    def bi_model_dist(self):#这是用来生成一个job的方法\n",
    "\n",
    "        # -- job length --\n",
    "        if np.random.rand() < self.job_small_chance:  # small job，生成一个随机数，如果小于0.8，则生成一个小任务\n",
    "            nw_len = np.random.randint(self.job_len_small_lower,\n",
    "                                           self.job_len_small_upper + 1)#随机生成小任务的执行时间\n",
    "        else:  # big job\n",
    "            nw_len = np.random.randint(self.job_len_big_lower,\n",
    "                                           self.job_len_big_upper + 1)#随机生成一个大任务的执行时间\n",
    "\n",
    "\n",
    "\n",
    "        # -- job resource request --\n",
    "        nw_size = np.zeros(self.num_res)#生成一个数组，用来记录一个job的两种资源的需求情况\n",
    "        dominant_res = np.random.randint(0, self.num_res)#生成一个0 或者 1 的数，用来表示这个任务占主导地位的资源是第一种或者第二种资源\n",
    "        for i in range(self.num_res):#给这个任务随机生成两种资源的需求情况\n",
    "            if i == dominant_res:\n",
    "                nw_size[i] = np.random.randint(self.dominant_res_lower,\n",
    "                                                   self.dominant_res_upper + 1)\n",
    "            else:\n",
    "                nw_size[i] = np.random.randint(self.other_res_lower,\n",
    "                                                   self.other_res_upper + 1)\n",
    "\n",
    "        return nw_len, nw_size#返回值是一个数组，第一个数是这个任务的执行时间，第二个数是一个数组，代表两种资源的需求\n",
    "\n"
   ]
  },
  {
   "cell_type": "code",
   "execution_count": 11,
   "metadata": {},
   "outputs": [],
   "source": [
    "num_res = 2#环境中任务的种类\n",
    "max_nw_size =10#新任务需求的最大资源（每个任务需求的资源不能超过这个值）\n",
    "max_job_len = 15#新任务最大的执行时间，新任务执行时间不能超过这个值\n",
    "simu_len = 50\n",
    "new_job_rate=0.3\n",
    "T_period=max_job_len*simu_len\n",
    "res_slot = 10"
   ]
  },
  {
   "cell_type": "code",
   "execution_count": 12,
   "metadata": {},
   "outputs": [],
   "source": [
    "dist=Dist(num_res,max_nw_size,max_job_len)"
   ]
  },
  {
   "cell_type": "code",
   "execution_count": 13,
   "metadata": {},
   "outputs": [],
   "source": [
    "nw_len,nw_res=dist.bi_model_dist()"
   ]
  },
  {
   "cell_type": "code",
   "execution_count": 14,
   "metadata": {},
   "outputs": [
    {
     "data": {
      "text/plain": [
       "array([ 0,  1,  0,  0,  0,  1,  2,  0,  0,  0,  3,  0,  0,  2,  0,  0,  0,\n",
       "        0,  0,  3,  0,  2,  0,  0,  0,  0,  0,  0,  0,  0,  0,  1,  0,  0,\n",
       "        0,  0,  0,  0,  0,  0,  0,  0,  0, 12,  0,  0,  0,  0,  0,  3])"
      ]
     },
     "execution_count": 14,
     "metadata": {},
     "output_type": "execute_result"
    }
   ],
   "source": [
    "nw_len_lst"
   ]
  },
  {
   "cell_type": "code",
   "execution_count": 15,
   "metadata": {},
   "outputs": [],
   "source": [
    "nw_len_lst=np.zeros(simu_len, dtype=int)\n",
    "nw_res_lst=np.zeros((simu_len,num_res), dtype=int)\n",
    "for i in range(simu_len):\n",
    "    if np.random.rand() < new_job_rate:  # a new job comes，在每个工作的位置上随机生成一个数字，如果小于新工作率，则在当前位置新生成一个任务\n",
    "        dist=Dist(num_res,max_nw_size,max_job_len)\n",
    "        nw_len_lst[i], nw_res_lst[i, :] = dist.bi_model_dist()"
   ]
  },
  {
   "cell_type": "code",
   "execution_count": 16,
   "metadata": {},
   "outputs": [],
   "source": [
    "T=[]\n",
    "for i in range(T_period):\n",
    "    T.append(i)"
   ]
  },
  {
   "cell_type": "code",
   "execution_count": 17,
   "metadata": {},
   "outputs": [],
   "source": [
    "arrval_time_lst=[]\n",
    "for i in range(simu_len):\n",
    "    arrval_time_lst.append(0)\n",
    "        \n",
    "        "
   ]
  },
  {
   "cell_type": "code",
   "execution_count": 18,
   "metadata": {},
   "outputs": [],
   "source": [
    "jobs=[]\n",
    "for i in range(simu_len):\n",
    "    jobs.append(str(i+1))"
   ]
  },
  {
   "cell_type": "code",
   "execution_count": 19,
   "metadata": {},
   "outputs": [],
   "source": [
    "dauer_dict={}\n",
    "i=0\n",
    "for job in jobs:\n",
    "    dauer_dict[job]=nw_len_lst[i]\n",
    "    i=i+1"
   ]
  },
  {
   "cell_type": "code",
   "execution_count": 20,
   "metadata": {},
   "outputs": [],
   "source": [
    "arrval_dict={}\n",
    "i=0\n",
    "for job in jobs:\n",
    "    arrval_dict[job]=arrval_time_lst[i]\n",
    "    i+=1"
   ]
  },
  {
   "cell_type": "code",
   "execution_count": 21,
   "metadata": {},
   "outputs": [],
   "source": [
    "res_dict={}\n",
    "i=0\n",
    "for job in jobs:\n",
    "    res_dict[job]=nw_res_lst[i]\n",
    "    i+=1"
   ]
  },
  {
   "cell_type": "code",
   "execution_count": 22,
   "metadata": {},
   "outputs": [
    {
     "name": "stdout",
     "output_type": "stream",
     "text": [
      "Load on # 0 resource dimension is 0.462\n",
      "Load on # 1 resource dimension is 0.544\n"
     ]
    }
   ],
   "source": [
    "workload = np.zeros(num_res)\n",
    "for i in range(num_res):\n",
    "    workload[i] = \\\n",
    "    np.sum(nw_res_lst[:, i] * nw_len_lst) / \\\n",
    "    float(res_slot) / \\\n",
    "    float(len(nw_len_lst))\n",
    "    print(\"Load on # \" + str(i) + \" resource dimension is \" + str(workload[i]))"
   ]
  },
  {
   "cell_type": "code",
   "execution_count": 23,
   "metadata": {},
   "outputs": [
    {
     "name": "stdout",
     "output_type": "stream",
     "text": [
      "Using license file /Users/11yunyi/gurobi.lic\n",
      "Academic license - for non-commercial use only\n"
     ]
    }
   ],
   "source": [
    "m=Model()"
   ]
  },
  {
   "cell_type": "code",
   "execution_count": 24,
   "metadata": {},
   "outputs": [],
   "source": [
    "x=m.addVars(jobs,T,name='start_time_bool',vtype=GRB.BINARY)\n",
    "omiga=m.addVars(jobs,lb=0,ub=T_period,name='end_time',vtype=GRB.INTEGER)\n",
    "alpha=m.addVars(jobs,lb=0,ub=T_period,name='start_time',vtype=GRB.INTEGER)\n",
    "y=m.addVars(jobs,T,name='dauer_time_bool',vtype=GRB.BINARY)\n",
    "slowdown=m.addVars(jobs,lb=0,name='slow_down',vtype=GRB.INTEGER)"
   ]
  },
  {
   "cell_type": "code",
   "execution_count": 25,
   "metadata": {},
   "outputs": [],
   "source": [
    "for job in jobs:\n",
    "    if dauer_dict[job]==0:\n",
    "        m.addConstr(slowdown[job]==1)\n",
    "    else:\n",
    "        m.addConstr(slowdown[job]==(omiga[job]-arrval_dict[job])/dauer_dict[job])\n"
   ]
  },
  {
   "cell_type": "code",
   "execution_count": 26,
   "metadata": {},
   "outputs": [
    {
     "data": {
      "text/plain": [
       "{'1': <gurobi.Constr *Awaiting Model Update*>,\n",
       " '2': <gurobi.Constr *Awaiting Model Update*>,\n",
       " '3': <gurobi.Constr *Awaiting Model Update*>,\n",
       " '4': <gurobi.Constr *Awaiting Model Update*>,\n",
       " '5': <gurobi.Constr *Awaiting Model Update*>,\n",
       " '6': <gurobi.Constr *Awaiting Model Update*>,\n",
       " '7': <gurobi.Constr *Awaiting Model Update*>,\n",
       " '8': <gurobi.Constr *Awaiting Model Update*>,\n",
       " '9': <gurobi.Constr *Awaiting Model Update*>,\n",
       " '10': <gurobi.Constr *Awaiting Model Update*>,\n",
       " '11': <gurobi.Constr *Awaiting Model Update*>,\n",
       " '12': <gurobi.Constr *Awaiting Model Update*>,\n",
       " '13': <gurobi.Constr *Awaiting Model Update*>,\n",
       " '14': <gurobi.Constr *Awaiting Model Update*>,\n",
       " '15': <gurobi.Constr *Awaiting Model Update*>,\n",
       " '16': <gurobi.Constr *Awaiting Model Update*>,\n",
       " '17': <gurobi.Constr *Awaiting Model Update*>,\n",
       " '18': <gurobi.Constr *Awaiting Model Update*>,\n",
       " '19': <gurobi.Constr *Awaiting Model Update*>,\n",
       " '20': <gurobi.Constr *Awaiting Model Update*>,\n",
       " '21': <gurobi.Constr *Awaiting Model Update*>,\n",
       " '22': <gurobi.Constr *Awaiting Model Update*>,\n",
       " '23': <gurobi.Constr *Awaiting Model Update*>,\n",
       " '24': <gurobi.Constr *Awaiting Model Update*>,\n",
       " '25': <gurobi.Constr *Awaiting Model Update*>,\n",
       " '26': <gurobi.Constr *Awaiting Model Update*>,\n",
       " '27': <gurobi.Constr *Awaiting Model Update*>,\n",
       " '28': <gurobi.Constr *Awaiting Model Update*>,\n",
       " '29': <gurobi.Constr *Awaiting Model Update*>,\n",
       " '30': <gurobi.Constr *Awaiting Model Update*>,\n",
       " '31': <gurobi.Constr *Awaiting Model Update*>,\n",
       " '32': <gurobi.Constr *Awaiting Model Update*>,\n",
       " '33': <gurobi.Constr *Awaiting Model Update*>,\n",
       " '34': <gurobi.Constr *Awaiting Model Update*>,\n",
       " '35': <gurobi.Constr *Awaiting Model Update*>,\n",
       " '36': <gurobi.Constr *Awaiting Model Update*>,\n",
       " '37': <gurobi.Constr *Awaiting Model Update*>,\n",
       " '38': <gurobi.Constr *Awaiting Model Update*>,\n",
       " '39': <gurobi.Constr *Awaiting Model Update*>,\n",
       " '40': <gurobi.Constr *Awaiting Model Update*>,\n",
       " '41': <gurobi.Constr *Awaiting Model Update*>,\n",
       " '42': <gurobi.Constr *Awaiting Model Update*>,\n",
       " '43': <gurobi.Constr *Awaiting Model Update*>,\n",
       " '44': <gurobi.Constr *Awaiting Model Update*>,\n",
       " '45': <gurobi.Constr *Awaiting Model Update*>,\n",
       " '46': <gurobi.Constr *Awaiting Model Update*>,\n",
       " '47': <gurobi.Constr *Awaiting Model Update*>,\n",
       " '48': <gurobi.Constr *Awaiting Model Update*>,\n",
       " '49': <gurobi.Constr *Awaiting Model Update*>,\n",
       " '50': <gurobi.Constr *Awaiting Model Update*>}"
      ]
     },
     "execution_count": 26,
     "metadata": {},
     "output_type": "execute_result"
    }
   ],
   "source": [
    "m.addConstrs((alpha[job]==omiga[job]-dauer_dict[job] for job in jobs))"
   ]
  },
  {
   "cell_type": "code",
   "execution_count": 27,
   "metadata": {},
   "outputs": [],
   "source": [
    "for i in range(simu_len):\n",
    "    m.addConstrs(alpha[job]>=arrval_dict[job] for job in jobs)"
   ]
  },
  {
   "cell_type": "code",
   "execution_count": 28,
   "metadata": {},
   "outputs": [],
   "source": [
    "for job in jobs:\n",
    "    m.addConstr(quicksum(x[(job),time] for time in T)==1)"
   ]
  },
  {
   "cell_type": "code",
   "execution_count": 29,
   "metadata": {},
   "outputs": [],
   "source": [
    "for job in jobs:\n",
    "    m.addConstr(quicksum(y[(job),time] for time in T)==dauer_dict[job])"
   ]
  },
  {
   "cell_type": "code",
   "execution_count": 30,
   "metadata": {},
   "outputs": [],
   "source": [
    "for job in jobs:\n",
    "    for timee in T[:T_period-max(dauer_dict.values())]:\n",
    "        m.addGenConstrIndicator(x[job,timee],True,quicksum(y[job,timee+timeee] for timeee in range(dauer_dict[job])),GRB.EQUAL,dauer_dict[job])"
   ]
  },
  {
   "cell_type": "code",
   "execution_count": 31,
   "metadata": {},
   "outputs": [],
   "source": [
    "for i in range(len(T)):\n",
    "    for j in range(num_res):\n",
    "        m.addConstr(quicksum(y[(job),T[i]]*res_dict[job][j] for job in jobs)<=res_slot)"
   ]
  },
  {
   "cell_type": "code",
   "execution_count": 32,
   "metadata": {},
   "outputs": [],
   "source": [
    "for job in jobs:\n",
    "    m.addConstr(quicksum(x[(job),time]*time for time in T)==alpha[job])  "
   ]
  },
  {
   "cell_type": "code",
   "execution_count": 33,
   "metadata": {},
   "outputs": [],
   "source": [
    "m.setObjective(1/simu_len*quicksum(slowdown[job] for job in jobs),GRB.MINIMIZE)"
   ]
  },
  {
   "cell_type": "code",
   "execution_count": 34,
   "metadata": {},
   "outputs": [
    {
     "name": "stdout",
     "output_type": "stream",
     "text": [
      "Gurobi Optimizer version 9.0.1 build v9.0.1rc0 (mac64)\n",
      "Optimize a model with 4250 rows, 75150 columns and 140667 nonzeros\n",
      "Model fingerprint: 0xf19c7868\n",
      "Model has 36850 general constraints\n",
      "Variable types: 0 continuous, 75150 integer (75000 binary)\n",
      "Coefficient statistics:\n",
      "  Matrix range     [8e-02, 7e+02]\n",
      "  Objective range  [2e-02, 2e-02]\n",
      "  Bounds range     [1e+00, 8e+02]\n",
      "  RHS range        [1e+00, 1e+01]\n",
      "Presolve added 4749 rows and 0 columns\n",
      "Presolve removed 0 rows and 54808 columns\n",
      "Presolve time: 2.90s\n",
      "Presolved: 8999 rows, 20342 columns, 73391 nonzeros\n",
      "Variable types: 0 continuous, 20342 integer (15166 binary)\n",
      "Found heuristic solution: objective 2.6000000\n",
      "\n",
      "Root relaxation: objective 1.542681e+00, 1211 iterations, 0.04 seconds\n",
      "\n",
      "    Nodes    |    Current Node    |     Objective Bounds      |     Work\n",
      " Expl Unexpl |  Obj  Depth IntInf | Incumbent    BestBd   Gap | It/Node Time\n",
      "\n",
      "     0     0    1.54268    0   70    2.60000    1.54268  40.7%     -    3s\n",
      "H    0     0                       2.4000000    1.54268  35.7%     -    3s\n",
      "     0     0    1.64189    0   80    2.40000    1.64189  31.6%     -    3s\n",
      "     0     0    1.64189    0  147    2.40000    1.64189  31.6%     -    3s\n",
      "H    0     0                       1.8400000    1.64189  10.8%     -    3s\n",
      "     0     0    1.66603    0  160    1.84000    1.66603  9.45%     -    3s\n",
      "     0     0    1.66603    0  135    1.84000    1.66603  9.45%     -    3s\n",
      "     0     0    1.67390    0  110    1.84000    1.67390  9.03%     -    4s\n",
      "H    0     0                       1.8200000    1.67390  8.03%     -    4s\n",
      "     0     0    1.76473    0  164    1.82000    1.76473  3.04%     -    4s\n",
      "     0     0    1.77153    0  160    1.82000    1.77153  2.66%     -    4s\n",
      "     0     0    1.79714    0  145    1.82000    1.79714  1.26%     -    4s\n",
      "     0     0    1.79714    0   15    1.82000    1.79714  1.26%     -    4s\n",
      "     0     0     cutoff    0         1.82000    1.82000  0.00%     -    4s\n",
      "\n",
      "Cutting planes:\n",
      "  Gomory: 2\n",
      "  Cover: 1\n",
      "  Implied bound: 1\n",
      "  Clique: 4\n",
      "  MIR: 3\n",
      "  Inf proof: 2\n",
      "  Zero half: 1\n",
      "\n",
      "Explored 1 nodes (3890 simplex iterations) in 4.40 seconds\n",
      "Thread count was 12 (of 12 available processors)\n",
      "\n",
      "Solution count 4: 1.82 1.84 2.4 2.6 \n",
      "\n",
      "Optimal solution found (tolerance 1.00e-04)\n",
      "Best objective 1.820000000000e+00, best bound 1.820000000000e+00, gap 0.0000%\n"
     ]
    }
   ],
   "source": [
    "m.optimize()"
   ]
  },
  {
   "cell_type": "code",
   "execution_count": 37,
   "metadata": {},
   "outputs": [
    {
     "data": {
      "text/plain": [
       "1.8200000000000007"
      ]
     },
     "execution_count": 37,
     "metadata": {},
     "output_type": "execute_result"
    }
   ],
   "source": [
    "m.ObjVal"
   ]
  },
  {
   "cell_type": "code",
   "execution_count": null,
   "metadata": {},
   "outputs": [],
   "source": []
  },
  {
   "cell_type": "code",
   "execution_count": null,
   "metadata": {},
   "outputs": [],
   "source": []
  }
 ],
 "metadata": {
  "kernelspec": {
   "display_name": "Python 3",
   "language": "python",
   "name": "python3"
  },
  "language_info": {
   "codemirror_mode": {
    "name": "ipython",
    "version": 3
   },
   "file_extension": ".py",
   "mimetype": "text/x-python",
   "name": "python",
   "nbconvert_exporter": "python",
   "pygments_lexer": "ipython3",
   "version": "3.7.4"
  }
 },
 "nbformat": 4,
 "nbformat_minor": 2
}
